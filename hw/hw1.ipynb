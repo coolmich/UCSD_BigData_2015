{
 "cells": [
  {
   "cell_type": "code",
   "execution_count": 4,
   "metadata": {
    "collapsed": true
   },
   "outputs": [],
   "source": [
    "import numpy as ny\n",
    "import urllib\n",
    "\n",
    "# define coroutine decorator\n",
    "def coroutine(func):\n",
    "    def start(*args,**kwargs):\n",
    "        cr = func(*args,**kwargs)\n",
    "        cr.next()\n",
    "        return cr\n",
    "    return start\n"
   ]
  },
  {
   "cell_type": "code",
   "execution_count": 6,
   "metadata": {
    "collapsed": true
   },
   "outputs": [],
   "source": [
    "\n",
    "# normal average\n",
    "@coroutine\n",
    "def avg_fly(target):\n",
    "    average, n = 0, 0\n",
    "    while True:\n",
    "        datum = (yield)\n",
    "        n += 1\n",
    "        alpha = 1.0/n\n",
    "        average = datum*alpha + (1 - alpha)*average\n",
    "        target.send(average)\n",
    "\n",
    "# final collector\n",
    "@coroutine\n",
    "def collector(li):\n",
    "    while True:\n",
    "        li[0] = (yield)"
   ]
  },
  {
   "cell_type": "code",
   "execution_count": 13,
   "metadata": {
    "collapsed": false
   },
   "outputs": [
    {
     "name": "stdout",
     "output_type": "stream",
     "text": [
      "10000\n",
      "20000\n",
      "30000\n",
      "40000\n",
      "50000\n"
     ]
    }
   ],
   "source": [
    "def parseData(fname):\n",
    "  for l in urllib.urlopen(fname):\n",
    "    yield eval(l)\n",
    "data = parseData(\"http://jmcauley.ucsd.edu/cse190/data/beer/beer_50000.json\")\n",
    "result = [0]\n",
    "i = 0\n",
    "routine1 = avg_fly(collector(result))\n",
    "for d in data:\n",
    "    routine1.send(d['review/appearance'])\n",
    "    i += 1\n",
    "    if i % 10000 == 0:\n",
    "        print i"
   ]
  },
  {
   "cell_type": "code",
   "execution_count": 14,
   "metadata": {
    "collapsed": false
   },
   "outputs": [
    {
     "data": {
      "text/plain": [
       "[3.8983999999999557]"
      ]
     },
     "execution_count": 14,
     "metadata": {},
     "output_type": "execute_result"
    }
   ],
   "source": [
    "result"
   ]
  },
  {
   "cell_type": "code",
   "execution_count": null,
   "metadata": {
    "collapsed": true
   },
   "outputs": [],
   "source": []
  }
 ],
 "metadata": {
  "kernelspec": {
   "display_name": "Python 2",
   "language": "python",
   "name": "python2"
  },
  "language_info": {
   "codemirror_mode": {
    "name": "ipython",
    "version": 2
   },
   "file_extension": ".py",
   "mimetype": "text/x-python",
   "name": "python",
   "nbconvert_exporter": "python",
   "pygments_lexer": "ipython2",
   "version": "2.7.6"
  }
 },
 "nbformat": 4,
 "nbformat_minor": 0
}
