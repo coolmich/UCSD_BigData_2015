{
 "cells": [
  {
   "cell_type": "markdown",
   "metadata": {
    "slideshow": {
     "slide_type": "slide"
    }
   },
   "source": [
    "# Memory Allocation, Generators and streams"
   ]
  },
  {
   "cell_type": "code",
   "execution_count": 4,
   "metadata": {
    "collapsed": false,
    "slideshow": {
     "slide_type": "slide"
    }
   },
   "outputs": [
    {
     "name": "stdout",
     "output_type": "stream",
     "text": [
      "In [4] used 0.0000 MiB RAM in 0.10s, peaked 0.00 MiB above current, total RAM usage 53.73 MiB\n"
     ]
    }
   ],
   "source": [
    "import sys\n",
    "import numpy as np\n",
    "import matplotlib.pyplot as plt\n",
    "%matplotlib inline\n",
    "\n",
    "from time import time\n",
    "import ipython_memory_usage as imu  # the ipython_memory_usage.py is a utility that measures the amount of memory used\n",
    "imu.start_watching_memory()"
   ]
  },
  {
   "cell_type": "markdown",
   "metadata": {
    "slideshow": {
     "slide_type": "fragment"
    }
   },
   "source": [
    "**Note:** about 53 MB are used from the get go. "
   ]
  },
  {
   "cell_type": "markdown",
   "metadata": {
    "slideshow": {
     "slide_type": "slide"
    }
   },
   "source": [
    "### Define dot product function in Python\n",
    "\n",
    "We will compare this function to using np.dot"
   ]
  },
  {
   "cell_type": "code",
   "execution_count": 5,
   "metadata": {
    "collapsed": false,
    "slideshow": {
     "slide_type": "subslide"
    }
   },
   "outputs": [
    {
     "name": "stdout",
     "output_type": "stream",
     "text": [
      "In [5] used 0.0586 MiB RAM in 0.11s, peaked 0.00 MiB above current, total RAM usage 53.79 MiB\n"
     ]
    }
   ],
   "source": [
    "\n",
    "def python_dot(a,b):\n",
    "    sum=0\n",
    "    for i in range(len(a)):\n",
    "        sum+=a[i]*b[i]\n",
    "    return sum"
   ]
  },
  {
   "cell_type": "markdown",
   "metadata": {},
   "source": [
    "### Experiement 1: Comparing allocation time, python calc and numpy calc.\n",
    "In the following code we measure the running time and memory required to compute the dot product. $\\vec{a} \\cdot \\vec{a} = \\sum_{i=1}^m a_i^2$"
   ]
  },
  {
   "cell_type": "code",
   "execution_count": 6,
   "metadata": {
    "collapsed": false,
    "scrolled": true
   },
   "outputs": [
    {
     "name": "stdout",
     "output_type": "stream",
     "text": [
      "e= 2 size= 0.0016 MB\t allocation= 2.19345092773e-07 numpy= 2.69412994385e-07 python= 1.12056732178e-06\n",
      "e= 3 size= 0.016 MB\t allocation= 3.00407409668e-08 numpy= 2.28881835938e-08 python= 1.51109695435e-06\n",
      "e= 4 size= 0.16 MB\t allocation= 5.19752502441e-09 numpy= 3.19480895996e-09 python= 1.32250785828e-06\n",
      "e= 5 size= 1.6 MB\t allocation= 8.88824462891e-09 numpy= 1.85012817383e-09 python= 1.04857206345e-06\n",
      "e= 6 size= 16.0 MB\t allocation= 7.38716125488e-09 numpy= 1.25098228455e-09 python= 1.02542090416e-06\n",
      "e= 7 size= 160.0 MB\t allocation= 6.64539337158e-09 numpy= 1.07510089874e-09 python= 9.9054980278e-07\n",
      "e= 8 size= 1600.0 MB\t allocation= 6.62707805634e-09 numpy= 1.05766057968e-09 python= 0.0\n",
      "CPU times: user 11 s, sys: 2.15 s, total: 13.1 s\n",
      "Wall time: 11.9 s\n",
      "In [6] used 1862.0117 MiB RAM in 12.02s, peaked 84.73 MiB above current, total RAM usage 1915.80 MiB\n"
     ]
    }
   ],
   "source": [
    "%%time\n",
    "for e in range(2,9):\n",
    "    L=10**e\n",
    "    start=time()\n",
    "    #a=np.random.uniform(low=-1,high=1,size=(L,2))\n",
    "    a=np.ones([L,2])\n",
    "    t1=time()\n",
    "    np.dot(a[:,0],a[:,1]),\n",
    "    t2=time()\n",
    "    if e<8:\n",
    "        python_dot(a[:,0],a[:,1]),\n",
    "        t3=time()\n",
    "    else:\n",
    "        t3=t2\n",
    "    print 'e=',e,'size=',L*16*1e-6,'MB\\t allocation=',(t1-start)/L,'numpy=',(t2-t1)/L,'python=',(t3-t2)/L\n",
    "    sys.stdout.flush()"
   ]
  },
  {
   "cell_type": "markdown",
   "metadata": {},
   "source": [
    "**Note:**\n",
    "* The total memory used by the last iteration (e=8) is about 1.6GB.\n",
    "* Numpy is about 100 times faster than native python\n",
    "* arrays of more than 160KB are processed at about the same time-per-element\n",
    "* Reducing the size of the array beyond 160KB hurts the per-element performance of both python and numpy.\n",
    "* Allocation time: the time required to allocate a byte of memory is about $10^{-3}$ for arrays of size 1.6KB, it decreases to it's minimum at 1.6MB and then increases steadily. For arrays of length 1.6GB the allocation time is about 7 times larger than the computation time. \n",
    "* **OHW** run this cell on your computer and update the conclusions to fit it."
   ]
  },
  {
   "cell_type": "code",
   "execution_count": 7,
   "metadata": {
    "collapsed": false
   },
   "outputs": [
    {
     "name": "stdout",
     "output_type": "stream",
     "text": [
      "write time per element: 4.81800699234e-08\n",
      "-rw-r--r--  1 yoavfreund  staff   1.5G Apr  2 12:08 a.bin\n",
      "CPU times: user 2.78 s, sys: 3 s, total: 5.77 s\n",
      "Wall time: 8.24 s\n",
      "In [7] used 0.0430 MiB RAM in 8.35s, peaked 0.00 MiB above current, total RAM usage 1915.84 MiB\n"
     ]
    }
   ],
   "source": [
    "%%time\n",
    "\n",
    "a=np.random.uniform(low=-1,high=1,size=(L,2))\n",
    "t1=time()\n",
    "a.tofile('a.bin')\n",
    "t2=time()\n",
    "print 'write time per element:',(t2-t1)/L\n",
    "!ls -lh *.bin"
   ]
  },
  {
   "cell_type": "code",
   "execution_count": 8,
   "metadata": {
    "collapsed": false
   },
   "outputs": [
    {
     "name": "stdout",
     "output_type": "stream",
     "text": [
      "In [8] used -1525.8555 MiB RAM in 0.24s, peaked 1525.88 MiB above current, total RAM usage 389.99 MiB\n"
     ]
    }
   ],
   "source": [
    "# Free memory\n",
    "a=[]"
   ]
  },
  {
   "cell_type": "markdown",
   "metadata": {},
   "source": [
    "### Using generators instead of arrays.\n",
    "* **python lists** and **numpy arrays** store a whole sequence in memory.\n",
    "* **generators** create the elements of a sequence one at a time."
   ]
  },
  {
   "cell_type": "code",
   "execution_count": 9,
   "metadata": {
    "collapsed": false
   },
   "outputs": [
    {
     "name": "stdout",
     "output_type": "stream",
     "text": [
      "<type 'list'> [0, 1, 2, 3] [0, 1, 2, 3]\n",
      "<type 'generator'> <generator object range_generator at 0x10879ae60> [0, 1, 2, 3]\n",
      "<type 'xrange'> xrange(4) [0, 1, 2, 3]\n",
      "In [9] used -356.7891 MiB RAM in 0.11s, peaked 0.00 MiB above current, total RAM usage 33.20 MiB\n"
     ]
    }
   ],
   "source": [
    "# A simple generator which generates the sequence 0,1,2,...,n-1\n",
    "def range_generator(n):\n",
    "    i=0\n",
    "    while i<n:\n",
    "        yield i\n",
    "        i+=1\n",
    "# the following commands all generate the same sequence, some using iteration, some using lists.\n",
    "print type(range(4)),range(4),[i for i in range(4)]\n",
    "print type(range_generator(4)),range_generator(4), [i for i in range_generator(4)]\n",
    "print type(xrange(4)),xrange(4), [i for i in xrange(4)] # built-in generator that is equivalent to range_generator"
   ]
  },
  {
   "cell_type": "markdown",
   "metadata": {},
   "source": [
    "`list`, `generator` and `xrange` are all \"iterable\", i.e. they can be used as X in \"for a in X\"\n",
    "\n",
    "### Experiement 2: comparing the memory and time profile for different iterators.\n",
    "compare different ways to generate vectors and to compute the dot product."
   ]
  },
  {
   "cell_type": "code",
   "execution_count": 10,
   "metadata": {
    "collapsed": false
   },
   "outputs": [
    {
     "name": "stdout",
     "output_type": "stream",
     "text": [
      "80.0 MB\n",
      "allocation time per byte 3.20942878723e-08 computation time per byte is  1.59870100021e-07\n",
      "In [10] used 617.9922 MiB RAM in 2.03s, peaked 0.00 MiB above current, total RAM usage 651.19 MiB\n"
     ]
    }
   ],
   "source": [
    "L=int(1e7) \n",
    "t0=time()\n",
    "a=range(L)\n",
    "print len(a)*8e-6,'MB'\n",
    "t1=time()\n",
    "python_dot(a,a)\n",
    "t2=time()\n",
    "print 'allocation time per byte',(t1-t0)/L,'computation time per byte is ',(t2-t1)/L"
   ]
  },
  {
   "cell_type": "markdown",
   "metadata": {},
   "source": [
    "baseline: 386MiB used. Total run time= 1.96s, time per byte= 1.64489078522e-07"
   ]
  },
  {
   "cell_type": "code",
   "execution_count": 11,
   "metadata": {
    "collapsed": false
   },
   "outputs": [
    {
     "name": "stdout",
     "output_type": "stream",
     "text": [
      "In [11] used 0.0078 MiB RAM in 0.17s, peaked 0.00 MiB above current, total RAM usage 651.20 MiB\n"
     ]
    }
   ],
   "source": [
    "a=[]  # release memory"
   ]
  },
  {
   "cell_type": "markdown",
   "metadata": {},
   "source": [
    "### Using iterators to perform the dot product\n",
    "We now redefine python_dot so that it can take as input any two iterables and compute the dot product one element at a time.\n",
    "\n",
    "Note that `iterator_dot` takes as input two iterators."
   ]
  },
  {
   "cell_type": "code",
   "execution_count": 13,
   "metadata": {
    "collapsed": false
   },
   "outputs": [
    {
     "name": "stdout",
     "output_type": "stream",
     "text": [
      "14\n",
      "In [13] used 0.0703 MiB RAM in 0.10s, peaked 0.00 MiB above current, total RAM usage 654.54 MiB\n"
     ]
    }
   ],
   "source": [
    "import collections\n",
    "def iterator_dot(a,b):\n",
    "    s=0\n",
    "    try:\n",
    "        while True:\n",
    "            s+=a.next()*b.next()\n",
    "    except StopIteration:\n",
    "        return s\n",
    "\n",
    "print iterator_dot(range_generator(4),range_generator(4))\n"
   ]
  },
  {
   "cell_type": "code",
   "execution_count": 14,
   "metadata": {
    "collapsed": false,
    "scrolled": false
   },
   "outputs": [
    {
     "name": "stdout",
     "output_type": "stream",
     "text": [
      "time per byte is  5.88776612282e-07\n",
      "In [14] used 0.0039 MiB RAM in 6.00s, peaked 0.00 MiB above current, total RAM usage 654.54 MiB\n"
     ]
    }
   ],
   "source": [
    "from time import time\n",
    "L=int(1e7) \n",
    "t1=time()\n",
    "## Incorrect: iterator_dot(xrange(L),xrange(L)) # does not work because xrange\n",
    "iterator_dot(range_generator(L),range_generator(L))\n",
    "t2=time()\n",
    "print 'time per byte is ',(t2-t1)/L"
   ]
  },
  {
   "cell_type": "markdown",
   "metadata": {},
   "source": [
    "using the generator xrange: slower, but uses almost no memory: 0.0039 MiB RAM in 6.06s"
   ]
  },
  {
   "cell_type": "code",
   "execution_count": 16,
   "metadata": {
    "collapsed": false,
    "scrolled": true
   },
   "outputs": [
    {
     "name": "stdout",
     "output_type": "stream",
     "text": [
      "time per byte is  3.50524187088e-07\n",
      "In [16] used 0.0234 MiB RAM in 3.61s, peaked 0.00 MiB above current, total RAM usage 654.84 MiB\n"
     ]
    }
   ],
   "source": [
    "# np.dot does not accept generators as input.\n",
    "L=int(1e7) \n",
    "t1=time()\n",
    "np.dot(xrange(L),xrange(L))\n",
    "t2=time()\n",
    "print 'time per byte is ',(t2-t1)/L"
   ]
  },
  {
   "cell_type": "markdown",
   "metadata": {},
   "source": [
    "Numpy+Xrange: a bad combination: used 0.0234 MiB RAM in 3.66s\n",
    "\n",
    "Numpy operates efficiently on block, not on single elements."
   ]
  },
  {
   "cell_type": "code",
   "execution_count": 17,
   "metadata": {
    "collapsed": false,
    "scrolled": true
   },
   "outputs": [
    {
     "name": "stdout",
     "output_type": "stream",
     "text": [
      "662921401752298880\n",
      "time per byte is  9.08942937851e-09\n",
      "In [17] used 0.0781 MiB RAM in 1.02s, peaked 1525.81 MiB above current, total RAM usage 654.92 MiB\n"
     ]
    }
   ],
   "source": [
    "L=int(1e8) ## Note - 10 times larger\n",
    "t1=time()\n",
    "print np.dot(np.arange(L),np.arange(L))\n",
    "t2=time()\n",
    "print 'time per byte is ',(t2-t1)/L"
   ]
  },
  {
   "cell_type": "markdown",
   "metadata": {},
   "source": [
    "A very good combination: 100 times faster than the previous.\n",
    "Based on the ndarray object in numpy which is optimized for numerical calculations.\n",
    "Uses a lot of memory (allocates 1.5GB) but releases it quickly. It seems that there\n",
    "is a much better synchronization with the memory garbage collector."
   ]
  },
  {
   "cell_type": "markdown",
   "metadata": {},
   "source": [
    "### Experiment 3\n",
    "Compare performance of dot product on different sizes of arrays."
   ]
  },
  {
   "cell_type": "code",
   "execution_count": 80,
   "metadata": {
    "collapsed": false,
    "scrolled": true
   },
   "outputs": [
    {
     "name": "stdout",
     "output_type": "stream",
     "text": [
      "e= 1 size= 0.16 KB, numpy= 4.41074371338e-06 python= 2.88486480713e-06 Python/Numpy= 0.654054054054\n",
      "e= 2 size= 1.6 KB, numpy= 1.31130218506e-07 python= 2.28881835937e-07 Python/Numpy= 1.74545454545\n",
      "e= 3 size= 16.0 KB, numpy= 1.90734863281e-08 python= 2.45094299316e-07 Python/Numpy= 12.85\n",
      "e= 4 size= 160.0 KB, numpy= 1.42097473145e-08 python= 1.99794769287e-07 Python/Numpy= 14.0604026846\n",
      "e= 5 size= 1600.0 KB, numpy= 1.14393234253e-08 python= 1.69801712036e-07 Python/Numpy= 14.8436848687\n",
      "e= 6 size= 16000.0 KB, numpy= 9.98711585999e-09 python= 1.71865940094e-07 Python/Numpy= 17.2087660245\n",
      "e= 7 size= 160000.0 KB, numpy= 1.71529054642e-08 python= 2.10940909386e-07 Python/Numpy= 12.2976780713\n",
      "e= 8 size= 1600000.0 KB, numpy= 9.16970014572e-09 python= 2.32083570957e-07 Python/Numpy= 25.3098320849\n",
      "CPU times: user 22.5 s, sys: 4.98 s, total: 27.5 s\n",
      "Wall time: 26.6 s\n",
      "In [80] used 2325.7656 MiB RAM in 26.73s, peaked 762.91 MiB above current, total RAM usage 2509.23 MiB\n"
     ]
    }
   ],
   "source": [
    "%%time\n",
    "for e in range(1,9):\n",
    "    L=int(10**e)\n",
    "    t1=time()\n",
    "    np.dot(np.arange(L),np.arange(L))\n",
    "    t2=time()\n",
    "    python_dot(xrange(L),xrange(L)),\n",
    "    t3=time()\n",
    "    print 'e=',e,'size=',L*16*1e-3,'KB, numpy=',(t2-t1)/L,'python=',(t3-t2)/L,'Python/Numpy=',(t3-t2)/(t2-t1)\n",
    "    sys.stdout.flush()"
   ]
  },
  {
   "cell_type": "markdown",
   "metadata": {},
   "source": [
    "The optimal size for numpy.dot is around 1.6MB, smaller is much worse, larger slightly worse (and wastes memory).\n",
    "\n",
    "The optimal for straight python is around 160KB, but performance is a factor of about 50 slower than numpy."
   ]
  },
  {
   "cell_type": "markdown",
   "metadata": {},
   "source": [
    "### Performance as function of chunk size"
   ]
  },
  {
   "cell_type": "code",
   "execution_count": 19,
   "metadata": {
    "collapsed": false
   },
   "outputs": [
    {
     "name": "stdout",
     "output_type": "stream",
     "text": [
      "80000.0 KB\n",
      "chunk sizes: in KB ['8000.00', '4498.73', '2529.82', '1422.62', '800.00', '449.87', '252.98', '142.26', '80.00', '44.99', '25.30', '14.23', '8.00', '4.50']\n",
      "In [19] used 0.0508 MiB RAM in 0.11s, peaked 0.00 MiB above current, total RAM usage 654.99 MiB\n"
     ]
    }
   ],
   "source": [
    "L=int(1e7)\n",
    "vals=np.arange(1,4.5,0.25)\n",
    "print L*8e-3,'KB'\n",
    "chunks=[8e-3*L*10**(-e) for e in vals]\n",
    "print 'chunk sizes: in KB',['%4.2f'%c for c in chunks]"
   ]
  },
  {
   "cell_type": "markdown",
   "metadata": {},
   "source": [
    "We can reduce the memory impact of 'np.dot' by breaking up the array into chunks and iterating over the chunks."
   ]
  },
  {
   "cell_type": "code",
   "execution_count": 20,
   "metadata": {
    "collapsed": false,
    "scrolled": false
   },
   "outputs": [
    {
     "name": "stdout",
     "output_type": "stream",
     "text": [
      "0 1 2 3 4CPU times: user 2.66 s, sys: 282 ms, total: 2.94 s\n",
      "Wall time: 2.95 s\n",
      "\n"
     ]
    },
    {
     "name": "stderr",
     "output_type": "stream",
     "text": [
      "/anaconda/lib/python2.7/site-packages/IPython/kernel/__main__.py:12: RuntimeWarning: overflow encountered in long_scalars\n"
     ]
    },
    {
     "data": {
      "image/png": "[encoded data removed]",
      "text/plain": [
       "<matplotlib.figure.Figure at 0x1087ab8d0>"
      ]
     },
     "metadata": {},
     "output_type": "display_data"
    },
    {
     "name": "stdout",
     "output_type": "stream",
     "text": [
      "In [20] used -87.0352 MiB RAM in 3.84s, peaked 127.88 MiB above current, total RAM usage 567.95 MiB\n"
     ]
    }
   ],
   "source": [
    "%%time\n",
    "m=5\n",
    "times=[0]*m\n",
    "\n",
    "for j in range(m):\n",
    "    print j,\n",
    "    times[j]=[]\n",
    "    for e in vals:\n",
    "        chunk=int(L*10**(-e));\n",
    "        t1=time()\n",
    "        S=0\n",
    "        for i in xrange(0,L,chunk):\n",
    "            S+=np.dot(np.arange(i,i+chunk-1),np.arange(i,i+chunk-1))\n",
    "        t2=time()\n",
    "        ratio=(t2-t1)/L\n",
    "        #print chunk,ratio\n",
    "        sys.stdout.flush()\n",
    "        times[j].append(ratio)\n",
    "\n",
    "for i in range(m):\n",
    "    plt.semilogx(chunks,times[i])"
   ]
  },
  {
   "cell_type": "markdown",
   "metadata": {},
   "source": [
    "The exact shape of the graph depends on the load on the computer memory at that moment. \n",
    "\n",
    "Observe that we have several minima at different sizes. These sizes typically are the page sizes for different cache levels."
   ]
  },
  {
   "cell_type": "code",
   "execution_count": 39,
   "metadata": {
    "collapsed": false,
    "scrolled": false
   },
   "outputs": [
    {
     "name": "stdout",
     "output_type": "stream",
     "text": [
      " 0 1 2 3 4CPU times: user 1.88 s, sys: 156 ms, total: 2.04 s\n",
      "Wall time: 2.03 s\n",
      "\n"
     ]
    },
    {
     "name": "stderr",
     "output_type": "stream",
     "text": [
      "/anaconda/lib/python2.7/site-packages/IPython/kernel/__main__.py:17: RuntimeWarning: overflow encountered in long_scalars\n"
     ]
    },
    {
     "data": {
      "image/png": "[encoded data removed]",
      "text/plain": [
       "<matplotlib.figure.Figure at 0x108f6d7d0>"
      ]
     },
     "metadata": {},
     "output_type": "display_data"
    },
    {
     "name": "stdout",
     "output_type": "stream",
     "text": [
      "In [39] used 0.9922 MiB RAM in 2.58s, peaked 0.24 MiB above current, total RAM usage 399.75 MiB\n"
     ]
    }
   ],
   "source": [
    "%%time\n",
    "chunks=[]\n",
    "\n",
    "def selfdot(v):\n",
    "    return np.dot(v,v)\n",
    "\n",
    "m=5\n",
    "times=[0]*m\n",
    "\n",
    "for j in range(m):\n",
    "    print j,\n",
    "    times[j]=[]\n",
    "    for e in vals:\n",
    "        chunk=int(L*10**(-e));\n",
    "        t1=time()\n",
    "        S=0\n",
    "        for i in xrange(0,L,chunk):\n",
    "            S+=selfdot(np.arange(i,i+chunk-1))\n",
    "        t2=time()\n",
    "        ratio=(t2-t1)/L\n",
    "        #print chunk,ratio\n",
    "        sys.stdout.flush()\n",
    "        times[j].append(ratio)\n",
    "        if j==0:\n",
    "            chunks.append(chunk*8e-3)\n",
    "\n",
    "for j in range(m):\n",
    "    plt.semilogx(chunks,times[j])\n",
    "plt.xlabel('chunk sizes: in KB')\n",
    "plt.ylabel('execution time per element')\n",
    "plt.grid()"
   ]
  },
  {
   "cell_type": "markdown",
   "metadata": {},
   "source": [
    "The optimal size is around 2MB. The time per element at that chunk size is about 1.5e-8 sec per element (16 bytes)."
   ]
  },
  {
   "cell_type": "markdown",
   "metadata": {},
   "source": [
    "### Using multiprocessing/Pool to use all cores.\n",
    "The Pool class gives an easy way to run a program on multiple cores."
   ]
  },
  {
   "cell_type": "code",
   "execution_count": 23,
   "metadata": {
    "collapsed": false
   },
   "outputs": [
    {
     "name": "stdout",
     "output_type": "stream",
     "text": [
      "In [23] used 0.0000 MiB RAM in 0.10s, peaked 0.00 MiB above current, total RAM usage 487.66 MiB\n"
     ]
    }
   ],
   "source": [
    "from multiprocessing import Pool"
   ]
  },
  {
   "cell_type": "code",
   "execution_count": 46,
   "metadata": {
    "collapsed": false,
    "scrolled": true
   },
   "outputs": [
    {
     "name": "stdout",
     "output_type": "stream",
     "text": [
      "In [46] used 0.0000 MiB RAM in 0.12s, peaked 0.00 MiB above current, total RAM usage 474.87 MiB\n"
     ]
    }
   ],
   "source": [
    "def selfdot(v):\n",
    "    global waste\n",
    "    for i in range(waste): #waste time - represents extra calculation\n",
    "        np.dot(v,v)\n",
    "    return np.dot(v,v)\n",
    "\n",
    "def multi_process(L=int(1e7),vals=np.arange(1,4.5,0.25)):\n",
    "\n",
    "    times={}\n",
    "    chunks=[]\n",
    "    for ps in range(1,6):\n",
    "        print ps,\n",
    "        p=Pool(ps)   #create a pool of ps processes\n",
    "        times[ps]=[]\n",
    "        for e in vals:\n",
    "            chunk=int(L*10**(-e))\n",
    "            t1=time()\n",
    "            ############# map = perform a command on each element of a list, using parallel processes.\n",
    "            X=p.map(selfdot,[np.arange(i,i+chunk-1) for i in xrange(0,L,chunk)],)\n",
    "            #############\n",
    "            t2=time()\n",
    "            ratio=(t2-t1)/(L*(1+waste))\n",
    "            times[ps].append(ratio)\n",
    "            if ps==1:\n",
    "                chunks.append(chunk*8e-3)\n",
    "        p.close() # close the pool\n",
    "\n",
    "    for i in times.keys():\n",
    "        plt.semilogx(chunks,times[i],label=str(i))\n",
    "\n",
    "    plt.legend(bbox_to_anchor=(1.05, 1), loc=2, borderaxespad=0.)\n",
    "    plt.grid()"
   ]
  },
  {
   "cell_type": "code",
   "execution_count": 44,
   "metadata": {
    "collapsed": false
   },
   "outputs": [
    {
     "name": "stdout",
     "output_type": "stream",
     "text": [
      "1 2 3 4 5\n"
     ]
    },
    {
     "data": {
      "image/png": "[encoded data removed]",
      "text/plain": [
       "<matplotlib.figure.Figure at 0x108d1b510>"
      ]
     },
     "metadata": {},
     "output_type": "display_data"
    },
    {
     "name": "stdout",
     "output_type": "stream",
     "text": [
      "In [44] used -72.7344 MiB RAM in 16.66s, peaked 181.32 MiB above current, total RAM usage 470.18 MiB\n"
     ]
    }
   ],
   "source": [
    "global waste\n",
    "waste=0\n",
    "multi_process()"
   ]
  },
  {
   "cell_type": "markdown",
   "metadata": {},
   "source": [
    "The extra work involvd in mapping is much larger than the gain from multi-processing 1e-8 vs ie-9."
   ]
  },
  {
   "cell_type": "markdown",
   "metadata": {},
   "source": [
    "In order to see benefit, the amount of computation for each element has to be much larger. otherwise the added computer power gains you nothing."
   ]
  },
  {
   "cell_type": "code",
   "execution_count": 47,
   "metadata": {
    "collapsed": false
   },
   "outputs": [
    {
     "name": "stdout",
     "output_type": "stream",
     "text": [
      "1 2 3 4 5\n"
     ]
    },
    {
     "data": {
      "image/png": "[encoded data removed]",
      "text/plain": [
       "<matplotlib.figure.Figure at 0x105bfcd50>"
      ]
     },
     "metadata": {},
     "output_type": "display_data"
    },
    {
     "name": "stdout",
     "output_type": "stream",
     "text": [
      "In [47] used -3.1797 MiB RAM in 25.17s, peaked 203.96 MiB above current, total RAM usage 471.69 MiB\n"
     ]
    }
   ],
   "source": [
    "global waste  # the dot product is computer waste+1 times.\n",
    "waste=100\n",
    "multi_process(vals=np.arange(1,4.5,0.5))"
   ]
  },
  {
   "cell_type": "markdown",
   "metadata": {
    "collapsed": true
   },
   "source": [
    "When performing the dot product 101 times we can see a significant imporvement from 1 to 2 processes, less from 2-3 and 3-4. No improvement beyond 4. Which makes sense, because the laptop has only 4 cores."
   ]
  },
  {
   "cell_type": "markdown",
   "metadata": {},
   "source": [
    "## Performance when data is out of memory"
   ]
  },
  {
   "cell_type": "code",
   "execution_count": 81,
   "metadata": {
    "collapsed": false
   },
   "outputs": [
    {
     "name": "stdout",
     "output_type": "stream",
     "text": [
      "In [81] used 0.0000 MiB RAM in 0.11s, peaked 0.00 MiB above current, total RAM usage 469.53 MiB\n"
     ]
    }
   ],
   "source": [
    "f=open ('a.bin','rb')"
   ]
  },
  {
   "cell_type": "code",
   "execution_count": 91,
   "metadata": {
    "collapsed": false
   },
   "outputs": [
    {
     "name": "stdout",
     "output_type": "stream",
     "text": [
      "2.10549969673e-07 time per element 0.0008 MB\n",
      "2.82002687454e-08 time per element 0.008 MB\n",
      "6.08550071716e-09 time per element 0.08 MB\n",
      "3.52241039276e-09 time per element 0.8 MB\n",
      "7.78764009476e-09 time per element 8.0 MB\n",
      "7.29969978333e-09 time per element 80.0 MB\n",
      "1.0617980957e-08 time per element 800.0 MB\n",
      "In [91] used 0.0000 MiB RAM in 27.52s, peaked 1366.69 MiB above current, total RAM usage 622.69 MiB\n"
     ]
    }
   ],
   "source": [
    "vals=np.arange(2,9)\n",
    "chunks=[int(10**e) for e in vals]\n",
    "for chunk in chunks:\n",
    "    s=0\n",
    "    A=np.array([0,0])\n",
    "    t0=time()\n",
    "    with open('a.bin','rb') as f:\n",
    "        while np.size(A)>0:\n",
    "            A=np.fromfile(f,count=chunk)\n",
    "            v=np.reshape(A,(-1,2))\n",
    "            s+= np.dot(v[:,0],v[:,1])\n",
    "    t1=time()\n",
    "    print (t1-t0)/(1e8),'time per element', (chunk*8)/(1e6), 'MB'\n",
    "    \n",
    "        \n",
    "        \n",
    "    "
   ]
  },
  {
   "cell_type": "markdown",
   "metadata": {},
   "source": [
    "The best block size is about 1MB. At that block size we achieve a throughput close to that of numpy \n",
    "using memory directly which is (see beginning of this notebook) 1-2 nano-second (1e-9)\n",
    "\n",
    "I say that this size block is **impedance matched** to the hardware. It is the block-size where cache blocks are filled exactly and the computation proceeds smoothly and fast."
   ]
  },
  {
   "cell_type": "code",
   "execution_count": null,
   "metadata": {
    "collapsed": true
   },
   "outputs": [],
   "source": []
  }
 ],
 "metadata": {
  "celltoolbar": "Slideshow",
  "kernelspec": {
   "display_name": "Python 2",
   "language": "python",
   "name": "python2"
  },
  "language_info": {
   "codemirror_mode": {
    "name": "ipython",
    "version": 2
   },
   "file_extension": ".py",
   "mimetype": "text/x-python",
   "name": "python",
   "nbconvert_exporter": "python",
   "pygments_lexer": "ipython2",
   "version": "2.7.9"
  }
 },
 "nbformat": 4,
 "nbformat_minor": 0
}
