{
 "cells": [
  {
   "cell_type": "code",
   "execution_count": 44,
   "metadata": {
    "collapsed": false
   },
   "outputs": [
    {
     "name": "stdout",
     "output_type": "stream",
     "text": [
      "Overwriting genSampleFile.py\n"
     ]
    }
   ],
   "source": [
    "%%writefile genSampleFile.py\n",
    "\n",
    "from mrjob.job import MRJob\n",
    "from mrjob.protocol import JSONValueProtocol\n",
    "from random import random\n",
    "from sys import stderr\n",
    "\n",
    "logfile=stderr\n",
    "partial = 0.001\n",
    "\n",
    "class GenSampleFile(MRJob):\n",
    "    OUTPUT_PROTOCOL = JSONValueProtocol\n",
    "\n",
    "    def mapper(self, _, line):\n",
    "        line = line.strip()\n",
    "        if random() <= partial:\n",
    "            yield (random(), line)\n",
    "\n",
    "if __name__ == '__main__':\n",
    "    GenSampleFile.run()\n"
   ]
  },
  {
   "cell_type": "markdown",
   "metadata": {},
   "source": [
    "## Running on local"
   ]
  },
  {
   "cell_type": "code",
   "execution_count": 45,
   "metadata": {
    "collapsed": false,
    "scrolled": true
   },
   "outputs": [
    {
     "name": "stdout",
     "output_type": "stream",
     "text": [
      "using configs in /Users/arapat/.mrjob.conf\n",
      "creating tmp directory /var/folders/xm/cpnz_3zd1p10ykxgbq7tqmp00000gn/T/genSampleFile.arapat.20150519.200415.861539\n",
      "writing wrapper script to /var/folders/xm/cpnz_3zd1p10ykxgbq7tqmp00000gn/T/genSampleFile.arapat.20150519.200415.861539/setup-wrapper.sh\n",
      "writing to /var/folders/xm/cpnz_3zd1p10ykxgbq7tqmp00000gn/T/genSampleFile.arapat.20150519.200415.861539/step-0-mapper_part-00000\n",
      "> sh -ex setup-wrapper.sh /Users/arapat/Develop/virtualenv/aws/bin/python genSampleFile.py --step-num=0 --mapper /var/folders/xm/cpnz_3zd1p10ykxgbq7tqmp00000gn/T/genSampleFile.arapat.20150519.200415.861539/input_part-00000 > /var/folders/xm/cpnz_3zd1p10ykxgbq7tqmp00000gn/T/genSampleFile.arapat.20150519.200415.861539/step-0-mapper_part-00000\n",
      "writing to /var/folders/xm/cpnz_3zd1p10ykxgbq7tqmp00000gn/T/genSampleFile.arapat.20150519.200415.861539/step-0-mapper_part-00001\n",
      "> sh -ex setup-wrapper.sh /Users/arapat/Develop/virtualenv/aws/bin/python genSampleFile.py --step-num=0 --mapper /var/folders/xm/cpnz_3zd1p10ykxgbq7tqmp00000gn/T/genSampleFile.arapat.20150519.200415.861539/input_part-00001 > /var/folders/xm/cpnz_3zd1p10ykxgbq7tqmp00000gn/T/genSampleFile.arapat.20150519.200415.861539/step-0-mapper_part-00001\n",
      "STDERR: + __mrjob_PWD=/private/var/folders/xm/cpnz_3zd1p10ykxgbq7tqmp00000gn/T/genSampleFile.arapat.20150519.200415.861539/job_local_dir/0/mapper/0\n",
      "STDERR: + exec\n",
      "STDERR: + /Users/arapat/Develop/virtualenv/aws/bin/python -c 'import fcntl; fcntl.flock(9, fcntl.LOCK_EX)'\n",
      "STDERR: + export PYTHONPATH=/private/var/folders/xm/cpnz_3zd1p10ykxgbq7tqmp00000gn/T/genSampleFile.arapat.20150519.200415.861539/job_local_dir/0/mapper/0/mrjob.tar.gz:/Users/arapat/Develop/spark/spark-1.3.1/python/lib/py4j-0.8.2.1-src.zip:/Users/arapat/Develop/spark/spark-1.3.1/python:\n",
      "STDERR: + PYTHONPATH=/private/var/folders/xm/cpnz_3zd1p10ykxgbq7tqmp00000gn/T/genSampleFile.arapat.20150519.200415.861539/job_local_dir/0/mapper/0/mrjob.tar.gz:/Users/arapat/Develop/spark/spark-1.3.1/python/lib/py4j-0.8.2.1-src.zip:/Users/arapat/Develop/spark/spark-1.3.1/python:\n",
      "STDERR: + exec\n",
      "STDERR: + cd /private/var/folders/xm/cpnz_3zd1p10ykxgbq7tqmp00000gn/T/genSampleFile.arapat.20150519.200415.861539/job_local_dir/0/mapper/0\n",
      "STDERR: + /Users/arapat/Develop/virtualenv/aws/bin/python genSampleFile.py --step-num=0 --mapper /var/folders/xm/cpnz_3zd1p10ykxgbq7tqmp00000gn/T/genSampleFile.arapat.20150519.200415.861539/input_part-00000\n",
      "STDERR: + __mrjob_PWD=/private/var/folders/xm/cpnz_3zd1p10ykxgbq7tqmp00000gn/T/genSampleFile.arapat.20150519.200415.861539/job_local_dir/0/mapper/1\n",
      "STDERR: + exec\n",
      "STDERR: + /Users/arapat/Develop/virtualenv/aws/bin/python -c 'import fcntl; fcntl.flock(9, fcntl.LOCK_EX)'\n",
      "STDERR: + export PYTHONPATH=/private/var/folders/xm/cpnz_3zd1p10ykxgbq7tqmp00000gn/T/genSampleFile.arapat.20150519.200415.861539/job_local_dir/0/mapper/1/mrjob.tar.gz:/Users/arapat/Develop/spark/spark-1.3.1/python/lib/py4j-0.8.2.1-src.zip:/Users/arapat/Develop/spark/spark-1.3.1/python:\n",
      "STDERR: + PYTHONPATH=/private/var/folders/xm/cpnz_3zd1p10ykxgbq7tqmp00000gn/T/genSampleFile.arapat.20150519.200415.861539/job_local_dir/0/mapper/1/mrjob.tar.gz:/Users/arapat/Develop/spark/spark-1.3.1/python/lib/py4j-0.8.2.1-src.zip:/Users/arapat/Develop/spark/spark-1.3.1/python:\n",
      "STDERR: + exec\n",
      "STDERR: + cd /private/var/folders/xm/cpnz_3zd1p10ykxgbq7tqmp00000gn/T/genSampleFile.arapat.20150519.200415.861539/job_local_dir/0/mapper/1\n",
      "STDERR: + /Users/arapat/Develop/virtualenv/aws/bin/python genSampleFile.py --step-num=0 --mapper /var/folders/xm/cpnz_3zd1p10ykxgbq7tqmp00000gn/T/genSampleFile.arapat.20150519.200415.861539/input_part-00001\n",
      "Counters from step 1:\n",
      "  (no counters found)\n",
      "Moving /var/folders/xm/cpnz_3zd1p10ykxgbq7tqmp00000gn/T/genSampleFile.arapat.20150519.200415.861539/step-0-mapper_part-00000 -> /var/folders/xm/cpnz_3zd1p10ykxgbq7tqmp00000gn/T/genSampleFile.arapat.20150519.200415.861539/output/part-00000\n",
      "Moving /var/folders/xm/cpnz_3zd1p10ykxgbq7tqmp00000gn/T/genSampleFile.arapat.20150519.200415.861539/step-0-mapper_part-00001 -> /var/folders/xm/cpnz_3zd1p10ykxgbq7tqmp00000gn/T/genSampleFile.arapat.20150519.200415.861539/output/part-00001\n",
      "Streaming final output from /var/folders/xm/cpnz_3zd1p10ykxgbq7tqmp00000gn/T/genSampleFile.arapat.20150519.200415.861539/output\n",
      "removing tmp directory /var/folders/xm/cpnz_3zd1p10ykxgbq7tqmp00000gn/T/genSampleFile.arapat.20150519.200415.861539\n"
     ]
    }
   ],
   "source": [
    "small_file = \"/Users/arapat/Workspace/homework/255/UCSD_BigData_2015/data/weather/ALL.head.csv\"\n",
    "\n",
    "!python genSampleFile.py --runner=local $small_file > sample"
   ]
  },
  {
   "cell_type": "markdown",
   "metadata": {},
   "source": [
    "## Running on EMR"
   ]
  },
  {
   "cell_type": "code",
   "execution_count": 51,
   "metadata": {
    "collapsed": false
   },
   "outputs": [
    {
     "name": "stdout",
     "output_type": "stream",
     "text": [
      "hdfs://ec2-54-159-119-133.compute-1.amazonaws.com:9000/weather.raw_data/ALL.csv\n"
     ]
    }
   ],
   "source": [
    "job_flow_id = 'j-1K4OUFYCVV74C'\n",
    "node = 'ec2-54-159-119-133.compute-1.amazonaws.com'\n",
    "input_file = 'hdfs://'+node+':9000/weather.raw_data/ALL.csv'\n",
    "print input_file"
   ]
  },
  {
   "cell_type": "code",
   "execution_count": 52,
   "metadata": {
    "collapsed": false
   },
   "outputs": [
    {
     "name": "stdout",
     "output_type": "stream",
     "text": [
      "using configs in /Users/arapat/.mrjob.conf\n",
      "creating tmp directory /var/folders/xm/cpnz_3zd1p10ykxgbq7tqmp00000gn/T/genSampleFile.arapat.20150519.200905.026189\n",
      "Copying non-input files into s3://cse-jalafate/tmp/genSampleFile.arapat.20150519.200905.026189/files/\n",
      "Adding our job to existing job flow j-1K4OUFYCVV74C\n",
      "Job launched 32.5s ago, status RUNNING: Running step (genSampleFile.arapat.20150519.200905.026189: Step 1 of 1)\n",
      "Job launched 64.7s ago, status RUNNING: Running step (genSampleFile.arapat.20150519.200905.026189: Step 1 of 1)\n",
      "Job launched 97.9s ago, status RUNNING: Running step (genSampleFile.arapat.20150519.200905.026189: Step 1 of 1)\n",
      "Job launched 130.8s ago, status RUNNING: Running step (genSampleFile.arapat.20150519.200905.026189: Step 1 of 1)\n",
      "Job completed.\n",
      "Running time was 98.0s (not counting time spent waiting for the EC2 instances)\n",
      "ec2_key_pair_file not specified, going to S3\n",
      "Fetching counters from S3...\n",
      "Waiting 5.0s for S3 eventual consistency\n",
      "Counters may not have been uploaded to S3 yet. Try again in 5 minutes with: mrjob fetch-logs --counters j-1K4OUFYCVV74C\n",
      "Counters from step 1:\n",
      "  (no counters found)\n",
      "Streaming final output from s3://cse-jalafate/tmp/genSampleFile.arapat.20150519.200905.026189/output/\n",
      "removing tmp directory /var/folders/xm/cpnz_3zd1p10ykxgbq7tqmp00000gn/T/genSampleFile.arapat.20150519.200905.026189\n",
      "Removing all files in s3://cse-jalafate/tmp/genSampleFile.arapat.20150519.200905.026189/\n"
     ]
    }
   ],
   "source": [
    "!python genSampleFile.py -r emr --emr-job-flow-id=$job_flow_id $input_file > big_sample"
   ]
  },
  {
   "cell_type": "code",
   "execution_count": null,
   "metadata": {
    "collapsed": true
   },
   "outputs": [],
   "source": []
  }
 ],
 "metadata": {
  "kernelspec": {
   "display_name": "Python 2",
   "language": "python",
   "name": "python2"
  },
  "language_info": {
   "codemirror_mode": {
    "name": "ipython",
    "version": 2
   },
   "file_extension": ".py",
   "mimetype": "text/x-python",
   "name": "python",
   "nbconvert_exporter": "python",
   "pygments_lexer": "ipython2",
   "version": "2.7.8"
  }
 },
 "nbformat": 4,
 "nbformat_minor": 0
}
