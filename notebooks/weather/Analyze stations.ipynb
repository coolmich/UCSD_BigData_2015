{
 "metadata": {
  "name": "",
  "signature": "sha256:27a75d89aac25ba2a2b162d590b39121c382b532f9926478260cb019b13f0fb4"
 },
 "nbformat": 3,
 "nbformat_minor": 0,
 "worksheets": [
  {
   "cells": [
    {
     "cell_type": "code",
     "collapsed": false,
     "input": [
      "import pandas as pd\n",
      "import numpy as np\n",
      "import sklearn as sk\n",
      "print 'pandas version: ',pd.__version__\n",
      "print 'numpy version:',np.__version__\n",
      "print 'sklearn version:',sk.__version__"
     ],
     "language": "python",
     "metadata": {},
     "outputs": [
      {
       "output_type": "stream",
       "stream": "stdout",
       "text": [
        "pandas version:  0.14.0\n",
        "numpy version: 1.8.1\n",
        "sklearn version: 0.14.1\n"
       ]
      }
     ],
     "prompt_number": 1
    },
    {
     "cell_type": "code",
     "collapsed": false,
     "input": [
      "%cd ~/BigData/UCSD_BigData/data/weather/    \n",
      "#%cs ~/data/weather\n",
      "!ls -lh"
     ],
     "language": "python",
     "metadata": {},
     "outputs": [
      {
       "output_type": "stream",
       "stream": "stdout",
       "text": [
        "/Users/yoavfreund/academic.papers/Courses/BigDataAnalytics/UCSD_BigData/data/weather\n",
        "total 210664\r\n",
        "-rw-r--r--  1 yoavfreund  staff   839K May 16 18:07 ALL.corrupted.csv\r\n",
        "-rw-r--r--  1 yoavfreund  staff   839K May 16 18:06 ALL.corrupted.csv~\r\n",
        "-rw-r--r--  1 yoavfreund  staff   839K May 10 12:59 ALL.head.csv\r\n",
        "-rw-r--r--  1 yoavfreund  staff    16M Jun  5 07:35 Partition_Tree.pkl\r\n",
        "-rw-r--r--  1 yoavfreund  staff    25M Apr 15  2014 SAMPLE_TMAX.csv\r\n",
        "-rw-r--r--  1 yoavfreund  staff   7.7M Apr  7  2014 SAMPLE_TMAX.csv.old.gz\r\n",
        "-rw-r--r--  1 yoavfreund  staff    13K Jun  2 22:17 TMAX.10.csv\r\n",
        "-rw-r--r--  1 yoavfreund  staff     0B Jun  3 07:51 TMAX.head.csv\r\n",
        "-rw-r--r--  1 yoavfreund  staff   218B Apr 15  2014 data-source.txt\r\n",
        "-rw-r--r--  1 yoavfreund  staff    22K Apr 15  2014 ghcnd-readme.txt\r\n",
        "-rw-r--r--  1 yoavfreund  staff   7.0M Apr 15  2014 ghcnd-stations.txt\r\n",
        "-rw-r--r--  1 yoavfreund  staff   7.4M Apr 15  2014 ghcnd-stations_buffered.txt\r\n",
        "-rw-r--r--  1 yoavfreund  staff   270B Apr 15  2014 ghcnd-version.txt\r\n",
        "-rw-r--r--@ 1 yoavfreund  503      37M Jun  5 10:14 make_covar.raw_256\r\n"
       ]
      }
     ],
     "prompt_number": 2
    },
    {
     "cell_type": "code",
     "collapsed": false,
     "input": [
      "!head ghcnd-stations.txt"
     ],
     "language": "python",
     "metadata": {},
     "outputs": [
      {
       "output_type": "stream",
       "stream": "stdout",
       "text": [
        "ACW00011604  17.1167  -61.7833   10.1    ST JOHNS COOLIDGE FLD                       \r\n",
        "ACW00011647  17.1333  -61.7833   19.2    ST JOHNS                                    \r\n",
        "AE000041196  25.3330   55.5170   34.0    SHARJAH INTER. AIRP            GSN     41196\r\n",
        "AF000040930  35.3170   69.0170 3366.0    NORTH-SALANG                   GSN     40930\r\n",
        "AG000060390  36.7167    3.2500   24.0    ALGER-DAR EL BEIDA             GSN     60390\r\n",
        "AG000060590  30.5667    2.8667  397.0    EL-GOLEA                       GSN     60590\r\n",
        "AG000060611  28.0500    9.6331  561.0    IN-AMENAS                      GSN     60611\r\n",
        "AG000060680  22.8000    5.4331 1362.0    TAMANRASSET                    GSN     60680\r\n",
        "AGE00135039  35.7297    0.6500   50.0    ORAN-HOPITAL MILITAIRE                      \r\n",
        "AJ000037575  41.5500   46.6670  490.0    ZAKATALA                               37575\r\n"
       ]
      }
     ],
     "prompt_number": 4
    },
    {
     "cell_type": "code",
     "collapsed": false,
     "input": [
      "colspecs = [(0, 11), (11, 21), (21, 31), (31, 38),(39,41),(41,72),(72,76),(76,80),(80,86)]\n",
      "stations = pd.read_fwf('ghcnd-stations_buffered.txt', colspecs=colspecs, header=None, index_col=0,\n",
      "                       names=['latitude','longitude','elevation','state','name','GSNFLAG','HCNFLAG','WMOID'])\n",
      "stations.head()"
     ],
     "language": "python",
     "metadata": {},
     "outputs": [
      {
       "html": [
        "<div style=\"max-height:1000px;max-width:1500px;overflow:auto;\">\n",
        "<table border=\"1\" class=\"dataframe\">\n",
        "  <thead>\n",
        "    <tr style=\"text-align: right;\">\n",
        "      <th></th>\n",
        "      <th>latitude</th>\n",
        "      <th>longitude</th>\n",
        "      <th>elevation</th>\n",
        "      <th>state</th>\n",
        "      <th>name</th>\n",
        "      <th>GSNFLAG</th>\n",
        "      <th>HCNFLAG</th>\n",
        "      <th>WMOID</th>\n",
        "    </tr>\n",
        "  </thead>\n",
        "  <tbody>\n",
        "    <tr>\n",
        "      <th>ACW00011604</th>\n",
        "      <td> 17.1167</td>\n",
        "      <td>-61.7833</td>\n",
        "      <td>   10.1</td>\n",
        "      <td> NaN</td>\n",
        "      <td> ST JOHNS COOLIDGE FLD</td>\n",
        "      <td> NaN</td>\n",
        "      <td> NaN</td>\n",
        "      <td>   NaN</td>\n",
        "    </tr>\n",
        "    <tr>\n",
        "      <th>ACW00011647</th>\n",
        "      <td> 17.1333</td>\n",
        "      <td>-61.7833</td>\n",
        "      <td>   19.2</td>\n",
        "      <td> NaN</td>\n",
        "      <td>              ST JOHNS</td>\n",
        "      <td> NaN</td>\n",
        "      <td> NaN</td>\n",
        "      <td>   NaN</td>\n",
        "    </tr>\n",
        "    <tr>\n",
        "      <th>AE000041196</th>\n",
        "      <td> 25.3330</td>\n",
        "      <td> 55.5170</td>\n",
        "      <td>   34.0</td>\n",
        "      <td> NaN</td>\n",
        "      <td>   SHARJAH INTER. AIRP</td>\n",
        "      <td> GSN</td>\n",
        "      <td> NaN</td>\n",
        "      <td> 41196</td>\n",
        "    </tr>\n",
        "    <tr>\n",
        "      <th>AF000040930</th>\n",
        "      <td> 35.3170</td>\n",
        "      <td> 69.0170</td>\n",
        "      <td> 3366.0</td>\n",
        "      <td> NaN</td>\n",
        "      <td>          NORTH-SALANG</td>\n",
        "      <td> GSN</td>\n",
        "      <td> NaN</td>\n",
        "      <td> 40930</td>\n",
        "    </tr>\n",
        "    <tr>\n",
        "      <th>AG000060390</th>\n",
        "      <td> 36.7167</td>\n",
        "      <td>  3.2500</td>\n",
        "      <td>   24.0</td>\n",
        "      <td> NaN</td>\n",
        "      <td>    ALGER-DAR EL BEIDA</td>\n",
        "      <td> GSN</td>\n",
        "      <td> NaN</td>\n",
        "      <td> 60390</td>\n",
        "    </tr>\n",
        "  </tbody>\n",
        "</table>\n",
        "</div>"
       ],
       "metadata": {},
       "output_type": "pyout",
       "prompt_number": 10,
       "text": [
        "             latitude  longitude  elevation state                   name  \\\n",
        "ACW00011604   17.1167   -61.7833       10.1   NaN  ST JOHNS COOLIDGE FLD   \n",
        "ACW00011647   17.1333   -61.7833       19.2   NaN               ST JOHNS   \n",
        "AE000041196   25.3330    55.5170       34.0   NaN    SHARJAH INTER. AIRP   \n",
        "AF000040930   35.3170    69.0170     3366.0   NaN           NORTH-SALANG   \n",
        "AG000060390   36.7167     3.2500       24.0   NaN     ALGER-DAR EL BEIDA   \n",
        "\n",
        "            GSNFLAG HCNFLAG  WMOID  \n",
        "ACW00011604     NaN     NaN    NaN  \n",
        "ACW00011647     NaN     NaN    NaN  \n",
        "AE000041196     GSN     NaN  41196  \n",
        "AF000040930     GSN     NaN  40930  \n",
        "AG000060390     GSN     NaN  60390  "
       ]
      }
     ],
     "prompt_number": 10
    },
    {
     "cell_type": "code",
     "collapsed": false,
     "input": [
      "set(stations['state'])"
     ],
     "language": "python",
     "metadata": {},
     "outputs": [
      {
       "metadata": {},
       "output_type": "pyout",
       "prompt_number": 9,
       "text": [
        "{nan,\n",
        " 'A',\n",
        " 'B',\n",
        " 'C',\n",
        " 'D',\n",
        " 'E',\n",
        " 'H',\n",
        " 'I',\n",
        " 'J',\n",
        " 'K',\n",
        " 'L',\n",
        " 'M',\n",
        " 'N',\n",
        " 'O',\n",
        " 'P',\n",
        " 'R',\n",
        " 'S',\n",
        " 'T',\n",
        " 'U',\n",
        " 'V',\n",
        " 'W',\n",
        " 'X',\n",
        " 'Y',\n",
        " 'Z'}"
       ]
      }
     ],
     "prompt_number": 9
    },
    {
     "cell_type": "code",
     "collapsed": false,
     "input": [],
     "language": "python",
     "metadata": {},
     "outputs": []
    }
   ],
   "metadata": {}
  }
 ]
}