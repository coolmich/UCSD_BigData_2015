{
 "cells": [
  {
   "cell_type": "code",
   "execution_count": 3,
   "metadata": {
    "collapsed": false,
    "slideshow": {
     "slide_type": "skip"
    }
   },
   "outputs": [
    {
     "name": "stdout",
     "output_type": "stream",
     "text": [
      "\u001b[1m\u001b[36mkmeans_from_CMSC_12300\u001b[m\u001b[m   mkeans-mrjob.ipynb       mkeans-mrjob.slides.html\r\n"
     ]
    }
   ],
   "source": [
    "!ls"
   ]
  },
  {
   "cell_type": "markdown",
   "metadata": {
    "slideshow": {
     "slide_type": "slide"
    }
   },
   "source": [
    "## Kmeans - main program"
   ]
  },
  {
   "cell_type": "code",
   "execution_count": 1,
   "metadata": {
    "collapsed": true,
    "slideshow": {
     "slide_type": "slide"
    }
   },
   "outputs": [],
   "source": [
    "# %load kmeans.py\n",
    "# CMSC 12300 - Computer Science with Applications 3\n",
    "# Borja Sotomayor, 2013\n",
    "#\n",
    "#  Master file: uses Runners to fire off map-reduce steps.\n",
    "\n",
    "import sys\n",
    "import random\n",
    "import numpy\n",
    "import pickle"
   ]
  },
  {
   "cell_type": "code",
   "execution_count": 2,
   "metadata": {
    "collapsed": false,
    "slideshow": {
     "slide_type": "fragment"
    }
   },
   "outputs": [
    {
     "ename": "ImportError",
     "evalue": "No module named kmeans_centroid_selector",
     "output_type": "error",
     "traceback": [
      "\u001b[0;31m---------------------------------------------------------------------------\u001b[0m",
      "\u001b[0;31mImportError\u001b[0m                               Traceback (most recent call last)",
      "\u001b[0;32m<ipython-input-2-6584deaf2daf>\u001b[0m in \u001b[0;36m<module>\u001b[0;34m()\u001b[0m\n\u001b[1;32m      1\u001b[0m \u001b[0;32mfrom\u001b[0m \u001b[0mmrjob\u001b[0m\u001b[0;34m.\u001b[0m\u001b[0mjob\u001b[0m \u001b[0;32mimport\u001b[0m \u001b[0mMRJob\u001b[0m\u001b[0;34m\u001b[0m\u001b[0m\n\u001b[0;32m----> 2\u001b[0;31m \u001b[0;32mfrom\u001b[0m \u001b[0mkmeans_centroid_selector\u001b[0m \u001b[0;32mimport\u001b[0m \u001b[0mMRKMeansChooseInitialCentroids\u001b[0m\u001b[0;34m\u001b[0m\u001b[0m\n\u001b[0m\u001b[1;32m      3\u001b[0m \u001b[0;32mfrom\u001b[0m \u001b[0mkmeans_centroid_updater\u001b[0m \u001b[0;32mimport\u001b[0m \u001b[0mMRKMeansUpdateCentroids\u001b[0m\u001b[0;34m\u001b[0m\u001b[0m\n",
      "\u001b[0;31mImportError\u001b[0m: No module named kmeans_centroid_selector"
     ]
    }
   ],
   "source": [
    "from mrjob.job import MRJob\n",
    "from kmeans_centroid_selector import MRKMeansChooseInitialCentroids\n",
    "from kmeans_centroid_updater import MRKMeansUpdateCentroids"
   ]
  },
  {
   "cell_type": "markdown",
   "metadata": {
    "slideshow": {
     "slide_type": "slide"
    }
   },
   "source": [
    "Read the output of the runner and return it as a list of vectors (value)\n",
    "\n",
    "runner.stream_output is explained [here](http://mrjob.readthedocs.org/en/latest/runners-runner.html#mrjob.runner.MRJobRunner.stream_output)\n",
    "\n",
    "job.parse_output_line is explained [here](http://mrjob.readthedocs.org/en/latest/job.html?highlight=parse_output_line#mrjob.job.MRJob.parse_output_line)"
   ]
  },
  {
   "cell_type": "code",
   "execution_count": null,
   "metadata": {
    "collapsed": true,
    "slideshow": {
     "slide_type": "fragment"
    }
   },
   "outputs": [],
   "source": [
    "def extract_centroids(job, runner):\n",
    "    c = []\n",
    "    for line in runner.stream_output():\n",
    "        key, value = job.parse_output_line(line)\n",
    "        print key, value\n",
    "        c.append(value)\n",
    "    return c"
   ]
  },
  {
   "cell_type": "code",
   "execution_count": null,
   "metadata": {
    "collapsed": true,
    "slideshow": {
     "slide_type": "slide"
    }
   },
   "outputs": [],
   "source": [
    "def write_centroids_to_disk(centroids, fname):\n",
    "    f = open(fname, \"w\")\n",
    "    pickle.dump(centroids, f)\n",
    "    f.close()"
   ]
  },
  {
   "cell_type": "code",
   "execution_count": null,
   "metadata": {
    "collapsed": true,
    "slideshow": {
     "slide_type": "fragment"
    }
   },
   "outputs": [],
   "source": [
    "# compute the largest distance traveled between the centroids in 'centroids' and 'new_centroids'\n",
    "# used as part of a termination criterion\n",
    "def get_biggest_diff(centroids,new_centroids):\n",
    "    distances = [numpy.linalg.norm(numpy.array(c1) - c2) for c1,c2 in zip(centroids,new_centroids)]\n",
    "    max_d = max(distances)\n",
    "    return max_d"
   ]
  },
  {
   "cell_type": "code",
   "execution_count": null,
   "metadata": {
    "collapsed": true,
    "slideshow": {
     "slide_type": "slide"
    }
   },
   "outputs": [],
   "source": [
    "CENTROIDS_FILE=\"/tmp/emr.kmeans.centroids\""
   ]
  },
  {
   "cell_type": "markdown",
   "metadata": {
    "slideshow": {
     "slide_type": "fragment"
    }
   },
   "source": [
    "The following code is based on the pattern \"Running your job programmatically\"\n",
    "Which is explained [here](http://mrjob.readthedocs.org/en/latest/guides/runners.html#running-your-job-programmatically)"
   ]
  },
  {
   "cell_type": "code",
   "execution_count": null,
   "metadata": {
    "collapsed": false,
    "slideshow": {
     "slide_type": "fragment"
    }
   },
   "outputs": [],
   "source": [
    "if __name__ == '__main__':\n",
    "    args = sys.argv[1:]\n",
    "\n",
    "    # initialize job\n",
    "    choose_centroids_job = MRKMeansChooseInitialCentroids(args=args)\n",
    "    # create a runner for the job\n",
    "    with choose_centroids_job.make_runner() as choose_centroids_runner:\n",
    "        choose_centroids_runner.run() #run the \"choose centroids\" map-reduce job\n",
    "\n",
    "        # Extract the centrids from stdout\n",
    "        centroids = extract_centroids(choose_centroids_job, choose_centroids_runner)\n",
    "        write_centroids_to_disk(centroids, CENTROIDS_FILE)\n",
    "\n",
    "        i = 1\n",
    "        while True:\n",
    "            print \"Iteration #%i\" % i\n",
    "            # Initialize job\n",
    "            update_centroids_job = MRKMeansUpdateCentroids(args=args + ['--centroids='+CENTROIDS_FILE])\n",
    "            # Create runner\n",
    "            with update_centroids_job.make_runner() as update_centroids_runner:\n",
    "                # run UpdateCentroids job\n",
    "                update_centroids_runner.run()\n",
    "\n",
    "                new_centroids = extract_centroids(update_centroids_job, update_centroids_runner)\n",
    "                write_centroids_to_disk(new_centroids, CENTROIDS_FILE)\n",
    "\n",
    "                diff = get_biggest_diff(centroids, new_centroids)\n",
    "\n",
    "                if diff > 10.0:\n",
    "                    centroids = new_centroids\n",
    "                else:\n",
    "                    break\n",
    "\n",
    "                i+=1"
   ]
  },
  {
   "cell_type": "markdown",
   "metadata": {
    "slideshow": {
     "slide_type": "slide"
    }
   },
   "source": [
    "## Kmeans - Initialize Centroids"
   ]
  },
  {
   "cell_type": "code",
   "execution_count": null,
   "metadata": {
    "collapsed": true,
    "slideshow": {
     "slide_type": "slide"
    }
   },
   "outputs": [],
   "source": [
    "# %load kmeans_centroid_selector.py\n",
    "# CMSC 12300 - Computer Science with Applications 3\n",
    "# Borja Sotomayor, 2013\n",
    "#\n",
    "\n",
    "import sys\n",
    "import random\n",
    "import numpy\n",
    "import pickle\n",
    "\n",
    "from mrjob.job import MRJob\n",
    "\n",
    "\n",
    "class MRKMeansChooseInitialCentroids(MRJob):\n",
    "\n",
    "    #initialize (using parent's __init__\n",
    "    def __init__(self, args):\n",
    "        MRJob.__init__(self, args)"
   ]
  },
  {
   "cell_type": "markdown",
   "metadata": {
    "slideshow": {
     "slide_type": "slide"
    }
   },
   "source": [
    "**Configure_options** is a mechanism for passing command line arguments to a MRjob job and use/parse them internally.\n",
    "\n",
    "It is explained [here](https://pythonhosted.org/mrjob/job.html#mrjob.job.MRJob.configure_options)"
   ]
  },
  {
   "cell_type": "code",
   "execution_count": null,
   "metadata": {
    "collapsed": true,
    "slideshow": {
     "slide_type": "fragment"
    }
   },
   "outputs": [],
   "source": [
    "    def configure_options(self):\n",
    "        super(MRKMeansChooseInitialCentroids, self).configure_options()\n",
    "        self.add_passthrough_option(\n",
    "            '--k', type='int', help='Number of clusters')"
   ]
  },
  {
   "cell_type": "code",
   "execution_count": null,
   "metadata": {
    "collapsed": true,
    "slideshow": {
     "slide_type": "slide"
    }
   },
   "outputs": [],
   "source": [
    "    # Mapper\n",
    "    def get_coordinates(self, _, line):\n",
    "        l = line.split()\n",
    "        if len(l) == 1:\n",
    "            return\n",
    "        \n",
    "        yield None, [int(x) for x in l[:-1]]\n",
    "    \n",
    "    # Combiner\n",
    "    # compute for each coordinate the minimum and the maximum value attainged.\n",
    "    def find_ranges(self, _, points):\n",
    "        # extract the array from the generator \"points\"\n",
    "        minp = maxp = numpy.array(points.next())\n",
    "        for p in points:\n",
    "            minp = numpy.minimum(minp, p)\n",
    "            maxp = numpy.maximum(maxp, p)\n",
    "\n",
    "        yield None, minp.tolist()\n",
    "        yield None, maxp.tolist()\n",
    "    \n",
    "    # Reducer\n",
    "    def select_centroids(self, _, minmax):\n",
    "        minp = maxp = numpy.array(minmax.next(), dtype=float)\n",
    "        for p in minmax:\n",
    "            minp = numpy.minimum(minp, p)\n",
    "            maxp = numpy.maximum(maxp, p)\n",
    "\n",
    "        # Define the centroids to be the k points arranged linearly between minp and maxp.\n",
    "        \n",
    "        k = self.options.k\n",
    "        step = (maxp-minp) / k\n",
    "        \n",
    "        for i in range(k):\n",
    "            yield None, (minp + step*i).tolist()\n",
    "\n",
    "    def steps(self):\n",
    "        return [self.mr(mapper=self.get_coordinates,\n",
    "                        combiner=self.find_ranges,\n",
    "                        reducer=self.select_centroids)]\n",
    "\n",
    "if __name__ == '__main__':\n",
    "    MRKMeansChooseInitialCentroids.run()"
   ]
  },
  {
   "cell_type": "markdown",
   "metadata": {
    "slideshow": {
     "slide_type": "slide"
    }
   },
   "source": [
    "## Kmeans - Update Centroids"
   ]
  },
  {
   "cell_type": "code",
   "execution_count": null,
   "metadata": {
    "collapsed": true
   },
   "outputs": [],
   "source": [
    "# %load kmeans_centroid_updater.py\n",
    "# CMSC 12300 - Computer Science with Applications 3\n",
    "# Borja Sotomayor, 2013\n",
    "#\n",
    "\n",
    "import sys\n",
    "import random\n",
    "import numpy\n",
    "import pickle\n",
    "\n",
    "from mrjob.job import MRJob\n",
    "\n",
    "class MRKMeansUpdateCentroids(MRJob):"
   ]
  },
  {
   "cell_type": "markdown",
   "metadata": {
    "slideshow": {
     "slide_type": "slide"
    }
   },
   "source": [
    "**add_file_optio**n is the way to refer to a file that is either local, on hdfs or on s3\n",
    "\n",
    "For more details read [this](http://mrjob.readthedocs.org/en/latest/guides/writing-mrjobs.html#file-options)"
   ]
  },
  {
   "cell_type": "code",
   "execution_count": null,
   "metadata": {
    "collapsed": true,
    "slideshow": {
     "slide_type": "fragment"
    }
   },
   "outputs": [],
   "source": [
    "    def configure_options(self):\n",
    "        super(MRKMeansUpdateCentroids, self).configure_options()\n",
    "        self.add_passthrough_option(\n",
    "            '--k', type='int', help='Number of clusters')\n",
    "        self.add_file_option('--centroids')"
   ]
  },
  {
   "cell_type": "code",
   "execution_count": null,
   "metadata": {
    "collapsed": true,
    "slideshow": {
     "slide_type": "slide"
    }
   },
   "outputs": [],
   "source": [
    "    # mapper_init\n",
    "    def get_centroids(self):\n",
    "        f = open(self.options.centroids)\n",
    "        self.centroids = pickle.load(f)\n",
    "        f.close()\n",
    "        return centroids\n",
    "\n",
    "    # mapper\n",
    "    def assign_cluster(self, _, line):\n",
    "        l = line.split()\n",
    "        if len(l) == 1:\n",
    "            return\n",
    "\n",
    "        point = numpy.array([float(x) for x in l[:-1]])\n",
    "        \n",
    "        distances = [numpy.linalg.norm(point - c) for c in self.centroids]\n",
    "        cluster = numpy.argmin(distances)\n",
    "\n",
    "        yield int(cluster), point.tolist()\n",
    "\n",
    "    # combiner\n",
    "    def partial_sum(self, cluster, points):\n",
    "        s = numpy.array(points.next())\n",
    "        n = 1\n",
    "        for p in points:\n",
    "            s += p\n",
    "            n += 1\n",
    "\n",
    "        yield cluster, (s.tolist(), n)\n",
    "\n",
    "    # reducer\n",
    "    def compute_average(self, cluster, partial_sums):\n",
    "        SUM, N = partial_sums.next()\n",
    "        SUM = numpy.array(SUM)\n",
    "        for ps, n in partial_sums:\n",
    "            SUM += ps\n",
    "            N += n\n",
    "\n",
    "        yield cluster, (SUM / N).tolist()\n",
    "\n",
    "    def steps(self):\n",
    "        return [self.mr(mapper_init=self.get_centroids,\n",
    "                        mapper=self.assign_cluster,\n",
    "                        combiner=self.partial_sum,\n",
    "                        reducer=self.compute_average)]\n",
    "\n",
    "\n",
    "if __name__ == '__main__':\n",
    "    MRKMeansUpdateCentroids.run()"
   ]
  }
 ],
 "metadata": {
  "celltoolbar": "Slideshow",
  "kernelspec": {
   "display_name": "Python 2",
   "language": "python",
   "name": "python2"
  },
  "language_info": {
   "codemirror_mode": {
    "name": "ipython",
    "version": 2
   },
   "file_extension": ".py",
   "mimetype": "text/x-python",
   "name": "python",
   "nbconvert_exporter": "python",
   "pygments_lexer": "ipython2",
   "version": "2.7.6"
  }
 },
 "nbformat": 4,
 "nbformat_minor": 0
}
