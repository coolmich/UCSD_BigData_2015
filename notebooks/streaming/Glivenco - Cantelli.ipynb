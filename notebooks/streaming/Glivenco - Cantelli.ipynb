{
 "metadata": {
  "celltoolbar": "Edit Metadata",
  "name": "",
  "signature": "sha256:65145581de5673dcc05d9d7339c7e445d275d873b98c2c808c0e38064178acd5"
 },
 "nbformat": 3,
 "nbformat_minor": 0,
 "worksheets": [
  {
   "cells": [
    {
     "cell_type": "heading",
     "level": 2,
     "metadata": {},
     "source": [
      "Convergence of empirical CDF to the true CDF"
     ]
    },
    {
     "cell_type": "code",
     "collapsed": false,
     "input": [
      "n=1000\n",
      "X=concatenate((normal(loc=-3,scale=0.5,size=n/2),normal(loc=1,scale=0.1,size=n/2)))\n",
      "X=permutation(X)\n",
      "X[:10]"
     ],
     "language": "python",
     "metadata": {},
     "outputs": [
      {
       "metadata": {},
       "output_type": "pyout",
       "prompt_number": 7,
       "text": [
        "array([ 1.25796291, -2.91200366, -2.60173054,  1.07490341,  0.87948337,\n",
        "        1.01103437, -3.37560168,  1.06685396, -4.1104053 , -3.75178964])"
       ]
      }
     ],
     "prompt_number": 7
    },
    {
     "cell_type": "code",
     "collapsed": false,
     "input": [
      "hist(X,bins=100);"
     ],
     "language": "python",
     "metadata": {},
     "outputs": [
      {
       "metadata": {},
       "output_type": "display_data",
       "png": "[encoded data removed]",
       "text": [
        "<matplotlib.figure.Figure at 0x10807b0d0>"
       ]
      }
     ],
     "prompt_number": 8
    },
    {
     "cell_type": "code",
     "collapsed": false,
     "input": [
      "def cdf(X):\n",
      "    sorted_X=sort(copy(X))\n",
      "    P=arange(0,1,1.0/len(X))\n",
      "    plot(sorted_X,P)\n",
      "    grid()\n",
      "    return sorted_X,P"
     ],
     "language": "python",
     "metadata": {},
     "outputs": [],
     "prompt_number": 9
    },
    {
     "cell_type": "code",
     "collapsed": false,
     "input": [
      "sorted_X,P=cdf(X)\n",
      "sortedFrac,P_frac=cdf(X[:100])\n",
      "grid()"
     ],
     "language": "python",
     "metadata": {},
     "outputs": [
      {
       "metadata": {},
       "output_type": "display_data",
       "png": "[encoded data removed]",
       "text": [
        "<matplotlib.figure.Figure at 0x108063610>"
       ]
      }
     ],
     "prompt_number": 11
    },
    {
     "cell_type": "code",
     "collapsed": false,
     "input": [
      "def diff(X1,X2):\n",
      "    def w_vec(X,w):\n",
      "        return column_stack((X,ones(shape(X))*w))\n",
      "    wv1=w_vec(X1,1.0/len(X1))\n",
      "    wv2=w_vec(X2,-1.0/len(X2))\n",
      "    #print shape(wv1),shape(wv2)\n",
      "    X_c=np.concatenate((wv1,wv2))\n",
      "    #print shape(X_c)\n",
      "    X_cs=X_c[X_c[:,0].argsort()]\n",
      "    #print X_cs[:30,:]\n",
      "    P=cumsum(X_cs[:,1])\n",
      "    plot(X_cs[:,0],P)"
     ],
     "language": "python",
     "metadata": {},
     "outputs": [],
     "prompt_number": 12
    },
    {
     "cell_type": "code",
     "collapsed": false,
     "input": [
      "batch_size=10000\n",
      "for i in range(0,len(X)-2*batch_size,batch_size):\n",
      "    diff(X[i:i+batch_size],X[i+batch_size:i+2*batch_size])\n",
      "    grid"
     ],
     "language": "python",
     "metadata": {},
     "outputs": [],
     "prompt_number": 13
    },
    {
     "cell_type": "markdown",
     "metadata": {},
     "source": [
      "## Glivenco-Cantelli bounds ##\n",
      "\n",
      "The Glivenco Cantelli theorem gives a bound on the **maximal** (supremal) difference between and empirical \n",
      "CDF $F_n(x)$ and the true CDF $F(x)$. The original theorem dates from 1933. Since then there have been many improvements, one of them, which gives the optimal bound in the exponent is Due to Massart (see reference below). It states that\n",
      "$$P\\left( \\mbox{sup}_x |F_n(x)-F(x)| > \\epsilon \\right) \\le 2e^{-2n \\epsilon^2} $$\n",
      "\n",
      "Fixing the probability of failure $\\delta$ we get the requirement:\n",
      "$$ 2e^{-2n \\epsilon^2} \\leq \\delta$$\n",
      "Or equivalently, in order to guarantee error smaller than $\\epsilon$ with probability at least $1-\\delta$ the number of examples ($n$) has to satisfy:\n",
      "$$ n \\geq \\frac{1}{2\\epsilon^2} \\ln \\frac{2}{\\delta} $$ \n",
      "\n",
      "Note that decreasing $\\delta$ by a factor of 2 requires increasing $n$ by **adding** to it\n",
      "$\\frac{\\ln 2}{2\\epsilon^2}$, while decreasing $\\epsilon$ by a factor of $2$ requires increasing $n$ by a **factor** of 4.\n",
      "\n",
      "It is thus much easier to improve reliability than to improve accuracy.\n",
      "\n",
      "[MASSART, P. (1990). The tight constant in the Dvoretzky-Kiefer-Wolfowitz inequality. Ann. of Probability 18, 1269-1293.](http://www.jstor.org/discover/10.2307/2244426?uid=3739560&uid=2&uid=4&uid=3739256&sid=21104182109893)"
     ]
    },
    {
     "cell_type": "code",
     "collapsed": false,
     "input": [],
     "language": "python",
     "metadata": {},
     "outputs": []
    }
   ],
   "metadata": {}
  }
 ]
}