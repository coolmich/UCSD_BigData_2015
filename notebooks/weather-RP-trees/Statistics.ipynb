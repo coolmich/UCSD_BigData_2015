{
 "cells": [
  {
   "cell_type": "markdown",
   "metadata": {},
   "source": [
    "#Statistics2.py\n",
    "\n",
    "This python module contains two classes for computing first and second order statistics of matrices.\n",
    "\n",
    "They provide the building blocks from which you can construct a map-reduce job for computing the statistics of a set of fixed-size vectors."
   ]
  },
  {
   "cell_type": "code",
   "execution_count": null,
   "metadata": {
    "collapsed": true
   },
   "outputs": [],
   "source": [
    "# %load Statistics2.py\n",
    "\"\"\"\n",
    "A module for computing simple statistics - mean, variance, covariance\n",
    "s1: First order Statistics for a matrix random variable (a numpy array)\n",
    "s2: Second order Statistics for a vector random variable.\n",
    "\"\"\"\n",
    "from numpy import *\n",
    "import numpy as np\n",
    "from random import random\n",
    "import sys,copy,traceback\n",
    "import pandas as pd"
   ]
  },
  {
   "cell_type": "code",
   "execution_count": null,
   "metadata": {
    "collapsed": true
   },
   "outputs": [],
   "source": [
    "## First Order Statistics\n",
    "\n",
    "class s:\n",
    "    \"\"\" compute the mean of matrices (have to be of same size) \"\"\"\n",
    "    def __init__(self,mat):\n",
    "        self.reset(mat)\n",
    "        \n",
    "    def reset(self,mat):\n",
    "        self.n=pd.DataFrame(data=zeros(shape(mat)))\n",
    "        self.sum=pd.DataFrame(data=zeros(shape(mat)))\n",
    "    \n",
    "    def accum(self,value):\n",
    "        \"\"\" Add a value to the statistics \"\"\"\n",
    "\n",
    "        if type(value)!=pd.core.frame.DataFrame:\n",
    "            value=pd.DataFrame(data=value)\n",
    " \n",
    "        if shape(value) != shape(self.sum):\n",
    "            raise Exception('in s.accum: shape of value:'+str(shape(value))+\\\n",
    "                            ' is not equal to shape of sum:'+str(shape(self.sum)))\n",
    "        self.sum+=value.fillna(0)\n",
    "        self.n+=(1-isnan(value))\n",
    "\n",
    "    def compute(self):\n",
    "        \"\"\" Returns the counts and the means for each entry \"\"\"\n",
    "        self.mean = self.sum / self.n\n",
    "        return (self.n,self.mean)\n",
    "\n",
    "    def add(self,other):\n",
    "        \"\"\" add two statistics \"\"\"\n",
    "        self.n += other.n\n",
    "        self.sum += other.sum\n",
    "        \n",
    "    def to_lists(self):\n",
    "        return {'n':self.n.values.tolist(),\\\n",
    "                'sum':self.sum.values.tolist()}\n",
    "\n",
    "    def from_lists(self,D):\n",
    "        self.n=pd.DataFrame(data=D['n'])\n",
    "        self.sum=pd.DataFrame(data=D['sum'])"
   ]
  },
  {
   "cell_type": "code",
   "execution_count": null,
   "metadata": {
    "collapsed": false,
    "slideshow": {
     "slide_type": "slide"
    }
   },
   "outputs": [],
   "source": [
    "# Second order statistics\n",
    "\n",
    "class VecStat:\n",
    "    \"\"\" Compute first and second order statistics of vectors of a fixed size n \"\"\"\n",
    "    def __init__(self,n):\n",
    "        self.n=n\n",
    "        self.reset()\n",
    "        # Create a vector of length n and a matrix of size nXn\n",
    " \n",
    "    def reset(self):\n",
    "        n=self.n\n",
    "        self.V=s(zeros(n))\n",
    "        self.Cov=s(zeros([n,n]))\n",
    "        \n",
    "    def accum(self,U):\n",
    "        \"\"\" accumulate statistics:\n",
    "        U: an numpy array holding one vector\n",
    "        \"\"\"\n",
    "        #check the length of U\n",
    "        if len(U) != self.n :\n",
    "            error='in Statistics.secOrdStat.accum: length of V='+str(self.n)+' not equal to length of U='+str(U.n)+'/n'\n",
    "            sys.stderr.write(error)\n",
    "            raise StandardError, error\n",
    "        #check if U has the correct type\n",
    "        if type(U) != ndarray:\n",
    "            error='in Statistics.secOrdStat.accum: type of U='+str(type(U))+', it should be numpy.ndarray'\n",
    "            sys.stderr.write(error)\n",
    "            raise StandardError, error\n",
    "        else:\n",
    "            #do the work\n",
    "            self.V.accum(U)\n",
    "            self.Cov.accum(outer(U,U))\n",
    "            \n",
    "    def compute(self,k=5):\n",
    "        \"\"\"\n",
    "        Compute the statistics. k (default 5) is the number of eigenvalues that are kept\n",
    "        \"\"\"\n",
    "\n",
    "        # Compute mean vector\n",
    "        (countV,meanV)=self.V.compute()\n",
    "\n",
    "        # Compute covariance matrix\n",
    "        (countC,meanC)=self.Cov.compute()\n",
    "        cov=meanC-outer(meanV,meanV)\n",
    "        std=[cov.ix[i,i] for i in range(shape(self.Cov.sum)[0])]\n",
    "        try:\n",
    "            (eigvalues,eigvectors)=linalg.eig(cov)\n",
    "            order=argsort(-abs(eigvalues))\t# indexes of eigenvalues from largest to smallest\n",
    "            eigvalues=eigvalues[order]\t\t# order eigenvalues\n",
    "            eigvectors=eigvectors[order]\t# order eigenvectors\n",
    "            eigvectors=eigvectors[1:k]\t\t# keep only top k eigen-vectors\n",
    "            for v in eigvectors:\n",
    "                v=v[order]     # order the elements in each eigenvector\n",
    "\n",
    "        except Exception,e:\n",
    "            exc_type, exc_value, exc_traceback = sys.exc_info()\n",
    "            traceback.print_exception(exc_type, exc_value, exc_traceback,limit=2, file=sys.stderr)\n",
    "            \n",
    "            eigvalues=None\n",
    "            eigvectors=None\n",
    "        return {'count':self.V.n,'mean':meanV,'std':std,'eigvalues':eigvalues,'eigvectors':eigvectors}\n",
    "        \n",
    "    def add(self, other):\n",
    "        \"\"\" add the statistics of s into self \"\"\"\n",
    "        self.V.add(other.V)\n",
    "        self.Cov.add(other.Cov)\n",
    "        \n",
    "    def to_lists(self):\n",
    "        return {'V':self.V.to_lists(),\n",
    "                'Cov':self.Cov.to_lists()}\n",
    "\n",
    "    def from_lists(self,D):\n",
    "        self.V.from_lists(D['V'])\n",
    "        self.Cov.from_lists(D['Cov'])\n",
    "        self.n=len(self.V.sum)"
   ]
  },
  {
   "cell_type": "code",
   "execution_count": null,
   "metadata": {
    "collapsed": true
   },
   "outputs": [],
   "source": []
  }
 ],
 "metadata": {
  "celltoolbar": "Slideshow",
  "kernelspec": {
   "display_name": "Python 2",
   "language": "python",
   "name": "python2"
  },
  "language_info": {
   "codemirror_mode": {
    "name": "ipython",
    "version": 2
   },
   "file_extension": ".py",
   "mimetype": "text/x-python",
   "name": "python",
   "nbconvert_exporter": "python",
   "pygments_lexer": "ipython2",
   "version": "2.7.9"
  }
 },
 "nbformat": 4,
 "nbformat_minor": 0
}
